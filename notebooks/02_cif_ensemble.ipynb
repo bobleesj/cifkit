{
 "cells": [
  {
   "cell_type": "markdown",
   "metadata": {},
   "source": [
    "# CifEnsemble"
   ]
  },
  {
   "cell_type": "code",
   "execution_count": null,
   "metadata": {},
   "outputs": [],
   "source": [
    "from cifkit import CifEnsemble, Example\n",
    "\n",
    "# Initialize\n",
    "ensemble = CifEnsemble(Example.demo_folder_path)"
   ]
  },
  {
   "cell_type": "markdown",
   "metadata": {},
   "source": [
    "## Initialize with nested files\n",
    "\n",
    "You can also use the `add_nested_files` flag to include `.cif` files that are located in folders within the folder path provided."
   ]
  },
  {
   "cell_type": "code",
   "execution_count": null,
   "metadata": {},
   "outputs": [],
   "source": [
    "\n",
    "# Initialize with nested .cif files in the folder\n",
    "ensemble_nested = CifEnsemble(Example.demo_folder_path, add_nested_files=True)"
   ]
  },
  {
   "cell_type": "markdown",
   "metadata": {},
   "source": [
    "## Get instant properties\n",
    "\n",
    "Once the object is created, you can get instant properties suhc as file count, folder path, etc."
   ]
  },
  {
   "cell_type": "code",
   "execution_count": null,
   "metadata": {},
   "outputs": [],
   "source": [
    "# Get .cif file count in the folder\n",
    "print(\"File count:\", ensemble.file_count) # 6\n",
    "\n",
    "# Get the directory path\n",
    "print(\"Directory path:\", ensemble.dir_path)\n",
    "\n",
    "# Get all file paths in the folder\n",
    "print(\"File paths:\", ensemble.file_paths)\n",
    "\n",
    "# Get all Cif objects initialized\n",
    "print(\"Cif objects:\", ensemble.cifs)"
   ]
  },
  {
   "cell_type": "markdown",
   "metadata": {},
   "source": [
    "## Get individual .cif properties\n",
    "\n",
    "The `CifEnsemble` object contains a property called `cifs` which contains a list of `Cif` objects. You may loop through each to access both instant and computed properties described in the previous `CIF` section."
   ]
  },
  {
   "cell_type": "code",
   "execution_count": null,
   "metadata": {},
   "outputs": [],
   "source": [
    "# Print each property for each .cif file\n",
    "for cif in ensemble.cifs:\n",
    "  print(f\"\\n{cif.file_name}\")\n",
    "  print(\"Formula:\", cif.formula)\n",
    "  print(\"Tag:\", cif.tag)\n",
    "  print(\"Mixing type:\", cif.site_mixing_type)\n",
    "  print(\"Unique bond pairs:\", cif.bond_pairs)"
   ]
  },
  {
   "cell_type": "markdown",
   "metadata": {},
   "source": [
    "## Get unique properties\n",
    "\n",
    "You can get all unique attributes such as formulas, elements, etc in the folder."
   ]
  },
  {
   "cell_type": "code",
   "execution_count": null,
   "metadata": {},
   "outputs": [],
   "source": [
    "# Get unique formulas\n",
    "print(\"Unique formulas:\", ensemble.unique_formulas)\n",
    "\n",
    "# Get unique elements\n",
    "print(\"Unique elements:\", ensemble.unique_elements)\n",
    "\n",
    "# Get unique structures\n",
    "print(\"Unique structures:\", ensemble.unique_structures)\n",
    "\n",
    "# Get unique atomix mixing types\n",
    "print(\"Unique atomic mixing types:\", ensemble.unique_site_mixing_types)\n",
    "\n",
    "# Get unique elements\n",
    "print(\"Unique elements including nested:\", ensemble_nested.unique_elements)\n",
    "\n",
    "# Get unique space group names\n",
    "print(\"Unique space group names:\", ensemble.unique_space_group_names)\n",
    "\n",
    "# Get unique space group numbers\n",
    "print(\"Unique space group numbers:\",ensemble.unique_space_group_numbers)\n",
    "\n",
    "# Get unique tags\n",
    "print(\"Unique tags:\", ensemble.unique_tags)\n",
    "\n",
    "# Get unique composition types\n",
    "print(\"Unique composition types:\", ensemble.unique_composition_types)"
   ]
  },
  {
   "cell_type": "markdown",
   "metadata": {},
   "source": [
    "## Get overall stats by attribute\n",
    "\n",
    "Get the number of files for each unique properties."
   ]
  },
  {
   "cell_type": "code",
   "execution_count": null,
   "metadata": {},
   "outputs": [],
   "source": [
    "# Get file count per structure\n",
    "print(\"Structure stats:\", ensemble.structure_stats)\n",
    "\n",
    "# Get file count per formula\n",
    "print(\"Formula stats:\", ensemble.formula_stats)\n",
    "\n",
    "# Get file count per tag\n",
    "print(\"Tag stats:\", ensemble.tag_stats)\n",
    "\n",
    "# Get file count per space group number\n",
    "print(\"Space group number stats:\", ensemble.space_group_number_stats)\n",
    "\n",
    "# Get file count per space group name\n",
    "print(\"Space group name stats:\", ensemble.space_group_name_stats)\n",
    "\n",
    "# Get file count per composition type\n",
    "print(\"Composition type stats:\", ensemble.composition_type_stats)\n",
    "\n",
    "# Get file count per Element\n",
    "print(\"Unique elements stats:\", ensemble.unique_elements_stats)\n",
    "\n",
    "# Get file count per site mixing type\n",
    "print(\"Site mixing type stats:\", ensemble.site_mixing_type_stats)\n",
    "\n",
    "# Get file count per supercell atom count\n",
    "print(\"Supercell size stats:\", ensemble.supercell_size_stats)\n",
    "\n",
    "# Get file count per CN value by min dist method\n",
    "print(\"CN value using min dist method stats:\", ensemble.unique_CN_values_by_min_dist_method_stat)\n",
    "\n",
    "# Get file count per CN value by best methods\n",
    "print(\"CN value using best methods stats:\", ensemble.unique_CN_values_by_method_methods_stat)"
   ]
  },
  {
   "cell_type": "markdown",
   "metadata": {},
   "source": [
    "## Filter .cif containing specific attributes\n"
   ]
  },
  {
   "cell_type": "code",
   "execution_count": null,
   "metadata": {},
   "outputs": [],
   "source": [
    "# Return file paths by formulas\n",
    "ensemble.filter_by_formulas([\"ErCoIn\", \"Er10Co9In20\"]) \n",
    "\n",
    "# Return file paths by structures\n",
    "ensemble.filter_by_structures([\"Mn5Si3\"])\n",
    "\n",
    "# Return file paths by space group names\n",
    "ensemble.filter_by_space_group_names([\"P4/mmm\"])\n",
    "\n",
    "# Return file paths by space group numbers\n",
    "ensemble.filter_by_space_group_numbers([123])\n",
    "\n",
    "# Return file paths by site mixing types\n",
    "ensemble.filter_by_site_mixing_types([\"full_occupancy\"])\n",
    "ensemble.filter_by_site_mixing_types([\"full_occupancy\", \"deficiency_without_atomic_mixing\"])\n",
    "\n",
    "# Return file paths by composition types (1-> unary, 2-> binary)\n",
    "ensemble.filter_by_composition_types([3])\n",
    "\n"
   ]
  },
  {
   "cell_type": "markdown",
   "metadata": {},
   "source": [
    "## Filter .cif by specific attributes\n",
    "\n",
    "Filter .cif files either containing a set of items or files that exactly contain the values passed. `cifkit` supports elements and coordination numbers.\n"
   ]
  },
  {
   "cell_type": "code",
   "execution_count": null,
   "metadata": {},
   "outputs": [],
   "source": [
    "\n",
    "print(\"\\nFile paths containing Er or Co or In:\")\n",
    "print(ensemble.filter_by_elements_containing([\"Er\", \"Co\", \"In\"])) # \n",
    "\n",
    "print(\"\\nFile paths containing Er and In:\")\n",
    "print(ensemble.filter_by_elements_exact_matching([\"Er\", \"In\"]))\n",
    "\n",
    "print(\"\\nFile paths containing CN value of 15:\")\n",
    "print(ensemble.filter_by_CN_min_dist_method_containing([15]))\n",
    "print(ensemble.filter_by_CN_best_methods_containing([15]))\n",
    "\n",
    "print(\"\\nFile paths containing CN value of 11, 14, and 15:\")\n",
    "print(ensemble.filter_by_CN_min_dist_method_exact_matching([11, 14, 15]))\n",
    "print(ensemble.filter_by_CN_best_methods_exact_matching([11, 14, 15]))"
   ]
  },
  {
   "cell_type": "markdown",
   "metadata": {},
   "source": [
    "## Filter by range"
   ]
  },
  {
   "cell_type": "code",
   "execution_count": null,
   "metadata": {},
   "outputs": [],
   "source": [
    "# Return a set of .cif file paths with min distance between 1.0 Å and 3.0 Å\n",
    "print(\"File paths with min distance between 1.0 Å and 3.0 Å:\\n\", ensemble.filter_by_min_distance(1.0, 3.0))\n",
    "\n",
    "# Return a set of .cif file paths with supercell atom count above 500 and below 3000.\n",
    "print(\"File paths with supercell atom count above 500 and below 3000:\\n\",ensemble.filter_by_supercell_count(300, 3000))"
   ]
  },
  {
   "cell_type": "markdown",
   "metadata": {},
   "source": [
    "## Move and copy files\n",
    "\n",
    "Assume you have a set of file paths filered using the functions described in the previous section. Since we are using Jupyter and with predefined examples, you need to provide `file_paths` and `dest_dir_path` for your system.\n",
    "\n",
    "```python\n",
    "file_paths = {\n",
    "    \"tests/data/cif/ensemble_test/300169.cif\",\n",
    "    \"tests/data/cif/ensemble_test/300171.cif\",\n",
    "    \"tests/data/cif/ensemble_test/300170.cif\",\n",
    "}\n",
    "\n",
    "# To move files\n",
    "ensemble.move_cif_files(file_paths, dest_dir_path)\n",
    "\n",
    "# To copy files\n",
    "ensemble.copy_cif_files(file_paths, dest_dir_path)\n",
    "```"
   ]
  },
  {
   "cell_type": "markdown",
   "metadata": {},
   "source": [
    "## Generate histograms"
   ]
  },
  {
   "cell_type": "code",
   "execution_count": null,
   "metadata": {},
   "outputs": [],
   "source": [
    "ensemble = CifEnsemble(Example.ErCoIn_big_folder_path)\n",
    "ensemble.generate_structure_histogram()\n",
    "ensemble.generate_formula_histogram()\n",
    "ensemble.generate_tag_histogram()\n",
    "ensemble.generate_space_group_number_histogram()\n",
    "ensemble.generate_space_group_name_histogram()\n",
    "ensemble.generate_supercell_size_histogram()\n",
    "ensemble.generate_elements_histogram()\n",
    "ensemble.generate_CN_by_min_dist_method_histogram()\n",
    "ensemble.generate_CN_by_best_methods_histogram()\n",
    "ensemble.generate_composition_type_histogram()\n",
    "ensemble.generate_site_mixing_type_histogram()\n",
    "\n",
    "'''\n",
    "# Optional: Specify the output directory where the .png file will be saved.\n",
    "ensemble.generate_site_mixing_type_histogram(output_dir=\"path/to/directory\")\n",
    "\n",
    "# Optional: Call plt.show() to display the histogram on screen.\n",
    "ensemble.generate_site_mixing_type_histogram(display=True)\n",
    "'''"
   ]
  }
 ],
 "metadata": {
  "kernelspec": {
   "display_name": "cifkit_env",
   "language": "python",
   "name": "python3"
  },
  "language_info": {
   "codemirror_mode": {
    "name": "ipython",
    "version": 3
   },
   "file_extension": ".py",
   "mimetype": "text/x-python",
   "name": "python",
   "nbconvert_exporter": "python",
   "pygments_lexer": "ipython3",
   "version": "3.12.7"
  }
 },
 "nbformat": 4,
 "nbformat_minor": 2
}
